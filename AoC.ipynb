{
 "cells": [
  {
   "cell_type": "markdown",
   "metadata": {},
   "source": [
    "# Day 1"
   ]
  },
  {
   "cell_type": "code",
   "execution_count": 12,
   "metadata": {},
   "outputs": [],
   "source": [
    "inp = []\n",
    "\n",
    "with open('input_1.txt', 'r') as f:\n",
    "    for line in f:\n",
    "        inp.append(int(line))\n"
   ]
  },
  {
   "cell_type": "code",
   "execution_count": 13,
   "metadata": {},
   "outputs": [
    {
     "name": "stdout",
     "output_type": "stream",
     "text": [
      "910539\n",
      "116724144\n"
     ]
    }
   ],
   "source": [
    "## PART I ##\n",
    "# two entries that sum up to 2020\n",
    "for i in range(len(inp) - 1):\n",
    "    \n",
    "    if inp[i] >= 2020:\n",
    "        print(inp[i])\n",
    "        break\n",
    "    \n",
    "    if inp[i] < 2020:\n",
    "        for j in range(i + 1, len(inp)):\n",
    "            if inp[i] + inp[j] > 2020:\n",
    "                continue\n",
    "            if inp[i] + inp[j] == 2020:\n",
    "                print(inp[i] * inp[j])\n",
    "                break\n",
    "\n",
    "                \n",
    "## PART II ##\n",
    "# three entries that sum up to 2020\n",
    "for i in range(len(inp) - 2):\n",
    "    \n",
    "    if inp[i] >= 2020:\n",
    "        continue\n",
    "    \n",
    "    if inp[i] < 2020:\n",
    "        \n",
    "        for j in range(i + 1, len(inp) - 1):\n",
    "            \n",
    "            if inp[i] + inp[j] >= 2020:\n",
    "                continue\n",
    "                \n",
    "            for k in range(j + 1, len(inp)):\n",
    "              \n",
    "              if inp[i] + inp[j] + inp[k] == 2020:\n",
    "                print(inp[i] * inp[j] * inp[k])\n",
    "                break\n",
    "            "
   ]
  },
  {
   "cell_type": "markdown",
   "metadata": {},
   "source": [
    "# Day 2\n"
   ]
  },
  {
   "cell_type": "code",
   "execution_count": null,
   "metadata": {},
   "outputs": [],
   "source": [
    "\n",
    "inp = []\n",
    "\n",
    "with open('input_2.txt', 'r') as f:\n",
    "    for line in f:\n",
    "        inp.append(line)\n",
    "        "
   ]
  },
  {
   "cell_type": "code",
   "execution_count": null,
   "metadata": {},
   "outputs": [],
   "source": [
    "import re\n",
    "\n",
    "## PART I ##        \n",
    "# password contains between nr[1] and nr[2] char characters\n",
    "\n",
    "\n",
    "pass_counter = 0\n",
    "\n",
    "for pass_item in inp:\n",
    "  \n",
    "    counter = 0\n",
    "  \n",
    "    numbers = list(map(int, re.findall(r'\\d+', pass_item))) \n",
    "    letter = pass_item.split()[1][0]\n",
    "    password = pass_item.split()[2]\n",
    "  \n",
    "    for char in password:\n",
    "    \n",
    "        if letter == char:\n",
    "            counter += 1\n",
    "    \n",
    "        if counter > numbers[1]:\n",
    "            break\n",
    "    \n",
    "    if counter <= numbers[1] and counter >= numbers[0]:\n",
    "        pass_counter += 1\n",
    "\n",
    "print(pass_counter) \n",
    "\n",
    "\n",
    "## PART II ## \n",
    "# char is on one of the two possitions\n",
    "\n",
    "pass_counter = 0\n",
    "\n",
    "test_inp = ['1-3 a: abcde', '1-3 b: cdefg', '2-9 c: ccccccccc', '1-2 b: cbaa']\n",
    "\n",
    "for pass_item in test_inp:\n",
    "  \n",
    "    numbers = list(map(int, re.findall(r'\\d+', pass_item))) \n",
    "    letter = pass_item.split()[1][0]\n",
    "    password = pass_item.split()[2]\n",
    "  \n",
    "    if (password[numbers[0] - 1] == letter and password[numbers[1] - 1] != letter)\\\n",
    "    or (password[numbers[0] - 1] != letter and password[numbers[1] - 1] == letter):\n",
    "        pass_counter += 1\n",
    "  \n",
    "  \n",
    "print(pass_counter)"
   ]
  },
  {
   "cell_type": "markdown",
   "metadata": {},
   "source": [
    "# Day 3"
   ]
  },
  {
   "cell_type": "code",
   "execution_count": 14,
   "metadata": {},
   "outputs": [],
   "source": [
    "inp = []\n",
    "\n",
    "with open('input_3.txt', 'r') as f:\n",
    "    for line in f:\n",
    "        inp.append(line[:-1])\n"
   ]
  },
  {
   "cell_type": "code",
   "execution_count": 15,
   "metadata": {},
   "outputs": [
    {
     "name": "stdout",
     "output_type": "stream",
     "text": [
      "29521920\n"
     ]
    }
   ],
   "source": [
    "\n",
    "# slopes = [3, 1] # PART I   \n",
    "slopes = [[1,1], [3,1], [5, 1], [7, 1], [1, 2]] # PART II\n",
    "prod = 1\n",
    "\n",
    "rsize = len(inp)\n",
    "csize = len(inp[0])\n",
    "\n",
    "for right, down in slopes:\n",
    "\n",
    "    new_rsize = rsize * right\n",
    " \n",
    "    counter = 0\n",
    "    i = 0\n",
    "\n",
    "    for j in range(0, new_rsize, right):\n",
    "        if inp[i][j % csize] == '#':\n",
    "            counter += 1\n",
    "    \n",
    "    if i < rsize - down:\n",
    "        i += down\n",
    "    else:\n",
    "        break\n",
    "    \n",
    "    prod *= counter\n",
    "\n",
    "print(prod)"
   ]
  },
  {
   "cell_type": "markdown",
   "metadata": {},
   "source": [
    "# Day 4"
   ]
  },
  {
   "cell_type": "code",
   "execution_count": 16,
   "metadata": {},
   "outputs": [],
   "source": [
    "with open('input_4.txt', 'r') as f:\n",
    "    inp = f.read()\n",
    "    inp = inp.split(\"\\n\\n\")\n",
    "\n",
    "for i,_ in enumerate(inp):\n",
    "    inp[i] = inp[i].replace('\\n', ' ')\n",
    "    "
   ]
  },
  {
   "cell_type": "code",
   "execution_count": 17,
   "metadata": {},
   "outputs": [
    {
     "name": "stdout",
     "output_type": "stream",
     "text": [
      "153\n"
     ]
    }
   ],
   "source": [
    "needed_fields = [ \"byr\", \"iyr\", \"eyr\", \"hgt\", \"hcl\", \"ecl\", \"pid\"]\n",
    "eye_clrs = [ \"amb\", \"blu\", \"brn\", \"gry\", \"grn\", \"hzl\", \"oth\"]\n",
    "a_f = set('abcdef0123456789')\n",
    "\n",
    "counter = 0\n",
    "\n",
    "for passport in inp:\n",
    "  \n",
    "    check = 0\n",
    "    keys = []\n",
    "    \n",
    "    for field in passport.split():\n",
    "        keys += [field.split(':')[0]]\n",
    "\n",
    "      \n",
    "    if all(field in keys for field in needed_fields):\n",
    "      \n",
    "        for entry in passport.split():\n",
    "          \n",
    "            entry = entry.split(':')\n",
    "          \n",
    "            if entry[0] == 'pid' and not (entry[1].isnumeric() and len(entry[1]) == 9): \n",
    "                check = 1\n",
    "          \n",
    "            if entry[0] == 'byr' and not (int(entry[1]) >= 1920 and int(entry[1]) <= 2002):\n",
    "                check = 1\n",
    "          \n",
    "            if entry[0] == 'iyr' and not (int(entry[1]) >= 2010 and int(entry[1]) <= 2020):\n",
    "                check = 1\n",
    "          \n",
    "            if entry[0] == 'eyr' and not (int(entry[1]) >= 2020 and int(entry[1]) <= 2030):\n",
    "                check = 1\n",
    "                \n",
    "            if entry[0] == 'hgt':\n",
    "                if 'cm' in entry[1] and not (int(entry[1].strip('cm')) >= 150 and int(entry[1].strip('cm')) <= 193):\n",
    "                    check = 1\n",
    "                if 'in' in entry[1] and not (int(entry[1].strip('in')) >= 59 and int(entry[1].strip('in')) <= 76):\n",
    "                    check = 1\n",
    "                if 'cm' not in entry[1] and 'in' not in entry[1]:\n",
    "                    check = 1\n",
    "        \n",
    "            if entry[0] == 'hcl':\n",
    "                if not ( entry[1][0] == '#' and len(entry[1]) == 7 and set(entry[1][1:]) <= a_f):\n",
    "                    check = 1\n",
    "          \n",
    "            if entry[0] == 'ecl' and entry[1] not in eye_clrs:\n",
    "                check = 1            \n",
    "    else:\n",
    "        check = 1\n",
    "            \n",
    "    if check == 0:\n",
    "        counter += 1\n",
    "          \n",
    "print(counter)"
   ]
  },
  {
   "cell_type": "markdown",
   "metadata": {},
   "source": [
    "# Day 5"
   ]
  },
  {
   "cell_type": "code",
   "execution_count": 18,
   "metadata": {},
   "outputs": [],
   "source": [
    "inp = []\n",
    "\n",
    "with open('input_5.txt', 'r') as f:\n",
    "    for line in f:\n",
    "        inp.append(line[:-1])"
   ]
  },
  {
   "cell_type": "code",
   "execution_count": 19,
   "metadata": {},
   "outputs": [
    {
     "name": "stdout",
     "output_type": "stream",
     "text": [
      "569\n"
     ]
    }
   ],
   "source": [
    "seat_IDs = []\n",
    "\n",
    "for ticket in inp:\n",
    "  \n",
    "    lower_c = 0\n",
    "    upper_c = 127\n",
    "\n",
    "    lower_r = 0\n",
    "    upper_r = 7\n",
    "  \n",
    "    for char in ticket:\n",
    "    \n",
    "        if char == 'F':\n",
    "            upper_c = lower_c + (upper_c - lower_c) // 2\n",
    "        if char == 'B':\n",
    "            lower_c = lower_c + (upper_c - lower_c + 1) // 2\n",
    "      \n",
    "        if char == 'L':\n",
    "            upper_r = lower_r + (upper_r - lower_r) // 2\n",
    "        if char == 'R':\n",
    "            lower_r = lower_r + (upper_r - lower_r + 1) // 2\n",
    "      \n",
    "    seat_IDs += [upper_c * 8 + upper_r]\n",
    "\n",
    "        \n",
    "seat_IDs = sorted(seat_IDs)\n",
    "\n",
    "for i, sid in enumerate(seat_IDs[:-1]):\n",
    "    if sid + 2 == seat_IDs[i + 1]:\n",
    "        print(sid + 1)  "
   ]
  },
  {
   "cell_type": "markdown",
   "metadata": {},
   "source": [
    "# Day 6"
   ]
  },
  {
   "cell_type": "code",
   "execution_count": 20,
   "metadata": {},
   "outputs": [],
   "source": [
    "with open('input_6.txt', 'r') as f:\n",
    "    inp = f.read()\n",
    "    inp = inp.split(\"\\n\\n\") "
   ]
  },
  {
   "cell_type": "code",
   "execution_count": 21,
   "metadata": {},
   "outputs": [
    {
     "name": "stdout",
     "output_type": "stream",
     "text": [
      "6735\n",
      "3221\n"
     ]
    }
   ],
   "source": [
    "## PART I ##\n",
    "\n",
    "ysum1 = 0\n",
    "inp1 = inp.copy()\n",
    "\n",
    "for i,_ in enumerate(inp1):\n",
    "    inp1[i] = set(inp1[i].replace('\\n', ' ').replace(' ', ''))\n",
    "    ysum1 += len(inp1[i])\n",
    "\n",
    "print(ysum1)\n",
    "\n",
    "\n",
    "## PART II ## \n",
    "# part 2\n",
    "\n",
    "ysum2 = 0\n",
    "inp2 = inp.copy()\n",
    "\n",
    "for i, _ in enumerate(inp2):\n",
    "    inp2[i] = inp2[i].replace('\\n', ' ')\n",
    "    inp2[i] = [set(x) for x in inp2[i].split()]\n",
    "  \n",
    "    set_intersect = inp2[i][0]\n",
    "  \n",
    "    for j, s in enumerate(inp2[i][1:]):\n",
    "    \n",
    "        set_intersect = set_intersect.intersection(inp2[i][j + 1])\n",
    "  \n",
    "    ysum2 += len(set_intersect)\n",
    "\n",
    "print(ysum2)"
   ]
  },
  {
   "cell_type": "markdown",
   "metadata": {},
   "source": [
    "# Day 7"
   ]
  },
  {
   "cell_type": "code",
   "execution_count": 22,
   "metadata": {},
   "outputs": [],
   "source": [
    "inp = []\n",
    "\n",
    "with open('input_7.txt', 'r') as f:\n",
    "    inp = f.read()"
   ]
  },
  {
   "cell_type": "code",
   "execution_count": 23,
   "metadata": {},
   "outputs": [],
   "source": [
    "from collections import defaultdict\n",
    "\n",
    "\n",
    "\n",
    "\n",
    "rules = defaultdict()\n",
    "\n",
    "for rule in inp.split('\\n')[:-1]:\n",
    "  \n",
    "    rule = rule.split(\"bags contain\")\n",
    "\n",
    "    rule[1] = rule[1].replace(' bags', '').replace(' bag', '').replace('.', '').split(',')\n",
    "  \n",
    "    # fix this pls robustness just died here\n",
    "    rule[1] = [(int(r[1]), r[3:]) for r in rule[1] if r[1].isnumeric()]\n",
    "    rules[rule[0].strip()] = rule[1]\n",
    "    \n",
    "    "
   ]
  },
  {
   "cell_type": "code",
   "execution_count": 24,
   "metadata": {},
   "outputs": [
    {
     "name": "stdout",
     "output_type": "stream",
     "text": [
      "Part 1 solution: 148\n",
      "Part 2 solution: 24867\n"
     ]
    }
   ],
   "source": [
    "def contains(outbag, inbag):\n",
    "  \n",
    "    for amount, color in outbag:\n",
    "        if color == inbag:\n",
    "            return True\n",
    "\n",
    "    return False\n",
    "\n",
    "\n",
    "def gold_climber(bag, stack):\n",
    "  \n",
    "    for b in rules:\n",
    "        if contains(rules[b], bag):\n",
    "            stack.add(b)\n",
    "            gold_climber(b, stack)\n",
    "\n",
    "    return stack\n",
    "\n",
    "\n",
    "\n",
    "def gold_digger(bag):\n",
    "  \n",
    "    counter = 1\n",
    "    for amount, bag in rules[bag]:\n",
    "        counter += amount * gold_digger(bag)\n",
    "\n",
    "    return counter \n",
    "\n",
    "\n",
    "print('Part 1 solution: ' + str(len(gold_climber('shiny gold', set()))))\n",
    "print('Part 2 solution: ' + str(gold_digger('shiny gold') - 1))\n",
    "    "
   ]
  },
  {
   "cell_type": "markdown",
   "metadata": {},
   "source": [
    "# Day 8"
   ]
  },
  {
   "cell_type": "code",
   "execution_count": 82,
   "metadata": {},
   "outputs": [],
   "source": [
    "inp = defaultdict()\n",
    "\n",
    "with open ('input_8.txt', 'r') as f:\n",
    "    for i, line in enumerate(f):\n",
    "        inp[i] = (line[:-1].split()[0], int(line[:-1].split()[1]))"
   ]
  },
  {
   "cell_type": "code",
   "execution_count": 84,
   "metadata": {},
   "outputs": [],
   "source": [
    "test_inptxt = 'nop +0\\n\\\n",
    "acc +1\\n\\\n",
    "jmp +4\\n\\\n",
    "acc +3\\n\\\n",
    "jmp -3\\n\\\n",
    "acc -99\\n\\\n",
    "acc +1\\n\\\n",
    "nop -4\\n\\\n",
    "acc +6'\n",
    "\n",
    "test_inp = defaultdict()\n",
    "\n",
    "for i, line in enumerate(test_inptxt.split('\\n')):\n",
    "    test_inp[i] = (line.split()[0], int(line.split()[1]))"
   ]
  },
  {
   "cell_type": "code",
   "execution_count": 41,
   "metadata": {},
   "outputs": [
    {
     "name": "stdout",
     "output_type": "stream",
     "text": [
      "1217\n"
     ]
    }
   ],
   "source": [
    "## PART I ##\n",
    "\n",
    "instr_idx = set()\n",
    "idx = 0\n",
    "acc = 0\n",
    "\n",
    "while idx not in instr_idx:\n",
    "    \n",
    "    instr_idx.add(idx)\n",
    "    \n",
    "    if inp[idx][0] == 'acc':\n",
    "        acc += inp[idx][1]\n",
    "        idx += 1\n",
    "    \n",
    "    elif inp[idx][0] == 'jmp':\n",
    "        idx += inp[idx][1]\n",
    "    \n",
    "    elif inp[idx][0] == 'nop':\n",
    "        idx += 1\n",
    "\n",
    "print(acc)"
   ]
  },
  {
   "cell_type": "code",
   "execution_count": 81,
   "metadata": {},
   "outputs": [
    {
     "name": "stdout",
     "output_type": "stream",
     "text": [
      "501\n"
     ]
    }
   ],
   "source": [
    "## PART II ##\n",
    "\n",
    "def terminates(inp):\n",
    "    \n",
    "    instr_idx = set()\n",
    "    idx = 0\n",
    "    acc = 0\n",
    "    \n",
    "    while idx < len(inp.keys()):\n",
    "    \n",
    "        if idx in instr_idx:\n",
    "            return False\n",
    "        \n",
    "        instr_idx.add(idx)\n",
    "    \n",
    "        if inp[idx][0] == 'acc':\n",
    "            acc += inp[idx][1]\n",
    "            idx += 1\n",
    "    \n",
    "        elif inp[idx][0] == 'jmp':\n",
    "            idx += inp[idx][1]\n",
    "    \n",
    "        elif inp[idx][0] == 'nop':\n",
    "            idx += 1\n",
    "    \n",
    "    \n",
    "    print(acc)\n",
    "    \n",
    "    return True\n",
    "\n",
    "\n",
    "\n",
    "copy_inp = inp.copy()\n",
    "\n",
    "for pos in inp:\n",
    "    \n",
    "    if inp[pos][0] == 'jmp':\n",
    "        copy_inp[pos] = ('nop', inp[pos][1])\n",
    "        \n",
    "        if terminates(copy_inp):\n",
    "            break\n",
    "        else:\n",
    "            copy_inp[pos] = ('jmp', inp[pos][1])\n",
    "             \n",
    "    if inp[pos][0] == 'nop':\n",
    "        copy_inp[pos] = ('jmp', inp[pos][1])\n",
    "        \n",
    "        if terminates(copy_inp):\n",
    "            break\n",
    "        else:\n",
    "            copy_inp[pos] = ('nop', inp[pos][1])"
   ]
  },
  {
   "cell_type": "code",
   "execution_count": null,
   "metadata": {},
   "outputs": [],
   "source": []
  }
 ],
 "metadata": {
  "kernelspec": {
   "display_name": "Python 3",
   "language": "python",
   "name": "python3"
  },
  "language_info": {
   "codemirror_mode": {
    "name": "ipython",
    "version": 3
   },
   "file_extension": ".py",
   "mimetype": "text/x-python",
   "name": "python",
   "nbconvert_exporter": "python",
   "pygments_lexer": "ipython3",
   "version": "3.8.3"
  }
 },
 "nbformat": 4,
 "nbformat_minor": 4
}
