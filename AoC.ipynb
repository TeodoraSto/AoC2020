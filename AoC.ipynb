{
 "cells": [
  {
   "cell_type": "markdown",
   "metadata": {},
   "source": [
    "# Day 1"
   ]
  },
  {
   "cell_type": "code",
   "execution_count": 74,
   "metadata": {},
   "outputs": [],
   "source": [
    "inp = []\n",
    "\n",
    "with open('input_1.txt', 'r') as f:\n",
    "    inp = [int(line) for line in f]\n"
   ]
  },
  {
   "cell_type": "code",
   "execution_count": 75,
   "metadata": {},
   "outputs": [
    {
     "name": "stdout",
     "output_type": "stream",
     "text": [
      "910539\n",
      "116724144\n"
     ]
    }
   ],
   "source": [
    "## PART I ##\n",
    "# two entries that sum up to 2020\n",
    "for i in range(len(inp) - 1):\n",
    "    \n",
    "    if inp[i] >= 2020:\n",
    "        print(inp[i])\n",
    "        break\n",
    "    \n",
    "    if inp[i] < 2020:\n",
    "        for j in range(i + 1, len(inp)):\n",
    "            \n",
    "            if inp[i] + inp[j] > 2020:\n",
    "                continue\n",
    "                \n",
    "            if inp[i] + inp[j] == 2020:\n",
    "                print(inp[i] * inp[j])\n",
    "                break\n",
    "\n",
    "                \n",
    "## PART II ##\n",
    "# three entries that sum up to 2020\n",
    "for i in range(len(inp) - 2):\n",
    "    \n",
    "    if inp[i] >= 2020:\n",
    "        continue\n",
    "    \n",
    "    if inp[i] < 2020:\n",
    "        \n",
    "        for j in range(i + 1, len(inp) - 1):\n",
    "            \n",
    "            if inp[i] + inp[j] >= 2020:\n",
    "                continue\n",
    "                \n",
    "            for k in range(j + 1, len(inp)):\n",
    "              \n",
    "              if inp[i] + inp[j] + inp[k] == 2020:\n",
    "                print(inp[i] * inp[j] * inp[k])\n",
    "                break\n",
    "            "
   ]
  },
  {
   "cell_type": "markdown",
   "metadata": {},
   "source": [
    "# Day 2\n"
   ]
  },
  {
   "cell_type": "code",
   "execution_count": null,
   "metadata": {},
   "outputs": [],
   "source": [
    "\n",
    "inp = []\n",
    "\n",
    "with open('input_2.txt', 'r') as f:\n",
    "    inp =[line for line in f]\n",
    "        "
   ]
  },
  {
   "cell_type": "code",
   "execution_count": null,
   "metadata": {},
   "outputs": [],
   "source": [
    "import re\n",
    "\n",
    "## PART I ##        \n",
    "# password contains between nr[1] and nr[2] char characters\n",
    "\n",
    "\n",
    "pass_counter = 0\n",
    "\n",
    "for pass_item in inp:\n",
    "  \n",
    "    counter = 0\n",
    "  \n",
    "    numbers = list(map(int, re.findall(r'\\d+', pass_item))) \n",
    "    letter = pass_item.split()[1][0]\n",
    "    password = pass_item.split()[2]\n",
    "  \n",
    "    for char in password:\n",
    "    \n",
    "        if letter == char:\n",
    "            counter += 1\n",
    "    \n",
    "        if counter > numbers[1]:\n",
    "            break\n",
    "    \n",
    "    if counter <= numbers[1] and counter >= numbers[0]:\n",
    "        pass_counter += 1\n",
    "\n",
    "print(pass_counter) \n",
    "\n",
    "\n",
    "## PART II ## \n",
    "# char is on one of the two possitions\n",
    "\n",
    "pass_counter = 0\n",
    "\n",
    "test_inp = ['1-3 a: abcde', '1-3 b: cdefg', '2-9 c: ccccccccc', '1-2 b: cbaa']\n",
    "\n",
    "for pass_item in test_inp:\n",
    "  \n",
    "    numbers = list(map(int, re.findall(r'\\d+', pass_item))) \n",
    "    letter = pass_item.split()[1][0]\n",
    "    password = pass_item.split()[2]\n",
    "  \n",
    "    if (password[numbers[0] - 1] == letter and password[numbers[1] - 1] != letter)\\\n",
    "    or (password[numbers[0] - 1] != letter and password[numbers[1] - 1] == letter):\n",
    "        pass_counter += 1\n",
    "  \n",
    "  \n",
    "print(pass_counter)"
   ]
  },
  {
   "cell_type": "markdown",
   "metadata": {},
   "source": [
    "# Day 3"
   ]
  },
  {
   "cell_type": "code",
   "execution_count": 76,
   "metadata": {},
   "outputs": [],
   "source": [
    "inp = []\n",
    "\n",
    "with open('input_3.txt', 'r') as f:\n",
    "    inp = [line[:-1] for line in f]\n"
   ]
  },
  {
   "cell_type": "code",
   "execution_count": 79,
   "metadata": {},
   "outputs": [
    {
     "name": "stdout",
     "output_type": "stream",
     "text": [
      "29521920\n"
     ]
    }
   ],
   "source": [
    "\n",
    "# slopes = [3, 1] # PART I   \n",
    "slopes = [[1,1], [3,1], [5, 1], [7, 1], [1, 2]] # PART II\n",
    "prod = 1\n",
    "\n",
    "rsize = len(inp)\n",
    "csize = len(inp[0])\n",
    "\n",
    "for right, down in slopes:\n",
    "\n",
    "    new_rsize = rsize * right\n",
    " \n",
    "    i = 0\n",
    "\n",
    "    counter = sum([1 for j in range(0, new_rsize, right) if inp[i][j % csize] == '#'])\n",
    "    \n",
    "    if i < rsize - down:\n",
    "        i += down\n",
    "    else:\n",
    "        break\n",
    "    \n",
    "    prod *= counter\n",
    "\n",
    "print(prod)"
   ]
  },
  {
   "cell_type": "markdown",
   "metadata": {},
   "source": [
    "# Day 4"
   ]
  },
  {
   "cell_type": "code",
   "execution_count": 80,
   "metadata": {},
   "outputs": [],
   "source": [
    "with open('input_4.txt', 'r') as f:\n",
    "    inp = f.read()\n",
    "    inp = inp.split(\"\\n\\n\")\n",
    "\n",
    "inp = [inp[i].replace('\\n', ' ') for i, _ in enumerate(inp)]"
   ]
  },
  {
   "cell_type": "code",
   "execution_count": 81,
   "metadata": {},
   "outputs": [
    {
     "name": "stdout",
     "output_type": "stream",
     "text": [
      "153\n"
     ]
    }
   ],
   "source": [
    "needed_fields = [ \"byr\", \"iyr\", \"eyr\", \"hgt\", \"hcl\", \"ecl\", \"pid\"]\n",
    "eye_clrs = [ \"amb\", \"blu\", \"brn\", \"gry\", \"grn\", \"hzl\", \"oth\"]\n",
    "a_f = set('abcdef0123456789')\n",
    "\n",
    "counter = 0\n",
    "\n",
    "for passport in inp:\n",
    "  \n",
    "    check = 0\n",
    "    keys = []\n",
    "    \n",
    "    keys = [field.split(':')[0] for field in passport.split()]\n",
    " \n",
    "    if all(field in keys for field in needed_fields):\n",
    "      \n",
    "        for entry in passport.split():\n",
    "          \n",
    "            entry = entry.split(':')\n",
    "          \n",
    "            if entry[0] == 'pid' and not (entry[1].isnumeric() and len(entry[1]) == 9): \n",
    "                check = 1\n",
    "          \n",
    "            if entry[0] == 'byr' and not (int(entry[1]) >= 1920 and int(entry[1]) <= 2002):\n",
    "                check = 1\n",
    "          \n",
    "            if entry[0] == 'iyr' and not (int(entry[1]) >= 2010 and int(entry[1]) <= 2020):\n",
    "                check = 1\n",
    "          \n",
    "            if entry[0] == 'eyr' and not (int(entry[1]) >= 2020 and int(entry[1]) <= 2030):\n",
    "                check = 1\n",
    "                \n",
    "            if entry[0] == 'hgt':\n",
    "                if 'cm' in entry[1] and not (int(entry[1].strip('cm')) >= 150 and int(entry[1].strip('cm')) <= 193):\n",
    "                    check = 1\n",
    "                if 'in' in entry[1] and not (int(entry[1].strip('in')) >= 59 and int(entry[1].strip('in')) <= 76):\n",
    "                    check = 1\n",
    "                if 'cm' not in entry[1] and 'in' not in entry[1]:\n",
    "                    check = 1\n",
    "        \n",
    "            if entry[0] == 'hcl':\n",
    "                if not ( entry[1][0] == '#' and len(entry[1]) == 7 and set(entry[1][1:]) <= a_f):\n",
    "                    check = 1\n",
    "          \n",
    "            if entry[0] == 'ecl' and entry[1] not in eye_clrs:\n",
    "                check = 1            \n",
    "    else:\n",
    "        check = 1\n",
    "            \n",
    "    if check == 0:\n",
    "        counter += 1\n",
    "          \n",
    "print(counter)"
   ]
  },
  {
   "cell_type": "markdown",
   "metadata": {},
   "source": [
    "# Day 5"
   ]
  },
  {
   "cell_type": "code",
   "execution_count": 82,
   "metadata": {},
   "outputs": [],
   "source": [
    "inp = []\n",
    "\n",
    "with open('input_5.txt', 'r') as f:\n",
    "    inp = [line[:-1] for line in f]"
   ]
  },
  {
   "cell_type": "code",
   "execution_count": 83,
   "metadata": {},
   "outputs": [
    {
     "name": "stdout",
     "output_type": "stream",
     "text": [
      "569\n"
     ]
    }
   ],
   "source": [
    "seat_IDs = []\n",
    "\n",
    "for ticket in inp:\n",
    "  \n",
    "    lower_c = 0\n",
    "    upper_c = 127\n",
    "\n",
    "    lower_r = 0\n",
    "    upper_r = 7\n",
    "  \n",
    "    for char in ticket:\n",
    "    \n",
    "        if char == 'F':\n",
    "            upper_c = lower_c + (upper_c - lower_c) // 2\n",
    "        if char == 'B':\n",
    "            lower_c = lower_c + (upper_c - lower_c + 1) // 2\n",
    "      \n",
    "        if char == 'L':\n",
    "            upper_r = lower_r + (upper_r - lower_r) // 2\n",
    "        if char == 'R':\n",
    "            lower_r = lower_r + (upper_r - lower_r + 1) // 2\n",
    "      \n",
    "    seat_IDs += [upper_c * 8 + upper_r]\n",
    "\n",
    "        \n",
    "seat_IDs = sorted(seat_IDs)\n",
    "\n",
    "for i, sid in enumerate(seat_IDs[:-1]):\n",
    "    if sid + 2 == seat_IDs[i + 1]:\n",
    "        print(sid + 1)  "
   ]
  },
  {
   "cell_type": "markdown",
   "metadata": {},
   "source": [
    "# Day 6"
   ]
  },
  {
   "cell_type": "code",
   "execution_count": 40,
   "metadata": {},
   "outputs": [],
   "source": [
    "with open('input_6.txt', 'r') as f:\n",
    "    inp = f.read()\n",
    "    inp = inp.split(\"\\n\\n\") "
   ]
  },
  {
   "cell_type": "code",
   "execution_count": 48,
   "metadata": {},
   "outputs": [
    {
     "name": "stdout",
     "output_type": "stream",
     "text": [
      "6735\n",
      "3221\n"
     ]
    }
   ],
   "source": [
    "## PART I ##\n",
    "\n",
    "ysum1 = 0\n",
    "inp1 = inp.copy()\n",
    "\n",
    "for i,_ in enumerate(inp1):\n",
    "    inp1[i] = set(inp1[i].replace('\\n', ' ').replace(' ', ''))\n",
    "    ysum1 += len(inp1[i])\n",
    "\n",
    "print(ysum1)\n",
    "\n",
    "\n",
    "## PART II ## \n",
    "# part 2\n",
    "\n",
    "ysum2 = 0\n",
    "inp2 = inp.copy()\n",
    "\n",
    "for i, _ in enumerate(inp2):\n",
    "    inp2[i] = inp2[i].replace('\\n', ' ')\n",
    "    inp2[i] = [set(x) for x in inp2[i].split()]\n",
    "  \n",
    "    set_intersect = inp2[i][0]\n",
    "  \n",
    "    for j in range(len(inp2[i][1:])):\n",
    "        set_intersect = set_intersect.intersection(inp2[i][j + 1])\n",
    "  \n",
    "    ysum2 += len(set_intersect)\n",
    "\n",
    "print(ysum2)"
   ]
  },
  {
   "cell_type": "markdown",
   "metadata": {},
   "source": [
    "# Day 7"
   ]
  },
  {
   "cell_type": "code",
   "execution_count": 22,
   "metadata": {},
   "outputs": [],
   "source": [
    "inp = []\n",
    "\n",
    "with open('input_7.txt', 'r') as f:\n",
    "    inp = f.read()"
   ]
  },
  {
   "cell_type": "code",
   "execution_count": 23,
   "metadata": {},
   "outputs": [],
   "source": [
    "from collections import defaultdict\n",
    "\n",
    "\n",
    "\n",
    "\n",
    "rules = defaultdict()\n",
    "\n",
    "for rule in inp.split('\\n')[:-1]:\n",
    "  \n",
    "    rule = rule.split(\"bags contain\")\n",
    "\n",
    "    rule[1] = rule[1].replace(' bags', '').replace(' bag', '').replace('.', '').split(',')\n",
    "  \n",
    "    # fix this pls robustness just died here\n",
    "    rule[1] = [(int(r[1]), r[3:]) for r in rule[1] if r[1].isnumeric()]\n",
    "    rules[rule[0].strip()] = rule[1]\n",
    "    \n",
    "    "
   ]
  },
  {
   "cell_type": "code",
   "execution_count": 24,
   "metadata": {},
   "outputs": [
    {
     "name": "stdout",
     "output_type": "stream",
     "text": [
      "Part 1 solution: 148\n",
      "Part 2 solution: 24867\n"
     ]
    }
   ],
   "source": [
    "def contains(outbag, inbag):\n",
    "  \n",
    "    for amount, color in outbag:\n",
    "        if color == inbag:\n",
    "            return True\n",
    "\n",
    "    return False\n",
    "\n",
    "\n",
    "def gold_climber(bag, stack):\n",
    "  \n",
    "    for b in rules:\n",
    "        if contains(rules[b], bag):\n",
    "            stack.add(b)\n",
    "            gold_climber(b, stack)\n",
    "\n",
    "    return stack\n",
    "\n",
    "\n",
    "\n",
    "def gold_digger(bag):\n",
    "  \n",
    "    counter = 1\n",
    "    for amount, bag in rules[bag]:\n",
    "        counter += amount * gold_digger(bag)\n",
    "\n",
    "    return counter \n",
    "\n",
    "\n",
    "print('Part 1 solution: ' + str(len(gold_climber('shiny gold', set()))))\n",
    "print('Part 2 solution: ' + str(gold_digger('shiny gold') - 1))\n",
    "    "
   ]
  },
  {
   "cell_type": "markdown",
   "metadata": {},
   "source": [
    "# Day 8"
   ]
  },
  {
   "cell_type": "code",
   "execution_count": 82,
   "metadata": {},
   "outputs": [],
   "source": [
    "inp = defaultdict()\n",
    "\n",
    "with open ('input_8.txt', 'r') as f:\n",
    "    for i, line in enumerate(f):\n",
    "        inp[i] = (line[:-1].split()[0], int(line[:-1].split()[1]))"
   ]
  },
  {
   "cell_type": "code",
   "execution_count": 84,
   "metadata": {},
   "outputs": [],
   "source": [
    "test_inptxt = 'nop +0\\n\\\n",
    "acc +1\\n\\\n",
    "jmp +4\\n\\\n",
    "acc +3\\n\\\n",
    "jmp -3\\n\\\n",
    "acc -99\\n\\\n",
    "acc +1\\n\\\n",
    "nop -4\\n\\\n",
    "acc +6'\n",
    "\n",
    "test_inp = defaultdict()\n",
    "\n",
    "for i, line in enumerate(test_inptxt.split('\\n')):\n",
    "    test_inp[i] = (line.split()[0], int(line.split()[1]))"
   ]
  },
  {
   "cell_type": "code",
   "execution_count": 41,
   "metadata": {},
   "outputs": [
    {
     "name": "stdout",
     "output_type": "stream",
     "text": [
      "1217\n"
     ]
    }
   ],
   "source": [
    "## PART I ##\n",
    "\n",
    "instr_idx = set()\n",
    "idx = 0\n",
    "acc = 0\n",
    "\n",
    "while idx not in instr_idx:\n",
    "    \n",
    "    instr_idx.add(idx)\n",
    "    \n",
    "    if inp[idx][0] == 'acc':\n",
    "        acc += inp[idx][1]\n",
    "        idx += 1\n",
    "    \n",
    "    elif inp[idx][0] == 'jmp':\n",
    "        idx += inp[idx][1]\n",
    "    \n",
    "    elif inp[idx][0] == 'nop':\n",
    "        idx += 1\n",
    "\n",
    "print(acc)"
   ]
  },
  {
   "cell_type": "code",
   "execution_count": 81,
   "metadata": {},
   "outputs": [
    {
     "name": "stdout",
     "output_type": "stream",
     "text": [
      "501\n"
     ]
    }
   ],
   "source": [
    "## PART II ##\n",
    "\n",
    "def terminates(inp):\n",
    "    \n",
    "    instr_idx = set()\n",
    "    idx = 0\n",
    "    acc = 0\n",
    "    \n",
    "    while idx < len(inp.keys()):\n",
    "    \n",
    "        if idx in instr_idx:\n",
    "            return False\n",
    "        \n",
    "        instr_idx.add(idx)\n",
    "    \n",
    "        if inp[idx][0] == 'acc':\n",
    "            acc += inp[idx][1]\n",
    "            idx += 1\n",
    "    \n",
    "        elif inp[idx][0] == 'jmp':\n",
    "            idx += inp[idx][1]\n",
    "    \n",
    "        elif inp[idx][0] == 'nop':\n",
    "            idx += 1\n",
    "    \n",
    "    \n",
    "    print(acc)\n",
    "    \n",
    "    return True\n",
    "\n",
    "\n",
    "\n",
    "copy_inp = inp.copy()\n",
    "\n",
    "for pos in inp:\n",
    "    \n",
    "    if inp[pos][0] == 'jmp':\n",
    "        copy_inp[pos] = ('nop', inp[pos][1])\n",
    "        \n",
    "        if terminates(copy_inp):\n",
    "            break\n",
    "        else:\n",
    "            copy_inp[pos] = ('jmp', inp[pos][1])\n",
    "             \n",
    "    if inp[pos][0] == 'nop':\n",
    "        copy_inp[pos] = ('jmp', inp[pos][1])\n",
    "        \n",
    "        if terminates(copy_inp):\n",
    "            break\n",
    "        else:\n",
    "            copy_inp[pos] = ('nop', inp[pos][1])"
   ]
  },
  {
   "cell_type": "markdown",
   "metadata": {},
   "source": [
    "# Day 9\n"
   ]
  },
  {
   "cell_type": "code",
   "execution_count": 62,
   "metadata": {},
   "outputs": [],
   "source": [
    "inp = []\n",
    "\n",
    "with open('input_9.txt', 'r') as f:\n",
    "    inp = [int(line[:-1]) for line in f]\n"
   ]
  },
  {
   "cell_type": "code",
   "execution_count": 22,
   "metadata": {},
   "outputs": [],
   "source": [
    "test_inp = [35, 20, 15, 25, 47, 40, 62, 55, 65, 95, 102, 117, 150, 182, 127, 219, 299, 277, 309, 576]"
   ]
  },
  {
   "cell_type": "code",
   "execution_count": 63,
   "metadata": {},
   "outputs": [
    {
     "name": "stdout",
     "output_type": "stream",
     "text": [
      "507622668\n"
     ]
    }
   ],
   "source": [
    "window = 25\n",
    "\n",
    "def check_sum(lst, sm):\n",
    "    \n",
    "    for i in range(len(lst) - 1):\n",
    "        for j in range(i + 1, len(lst)):\n",
    "            \n",
    "            if lst[i] + lst[j] == sm:\n",
    "                return True\n",
    "            \n",
    "    return False\n",
    "\n",
    "for i in range(window, len(inp)):\n",
    "    \n",
    "    if not check_sum(inp[i - window : i], inp[i]):\n",
    "        first_nr = inp[i]\n",
    "        break\n",
    "\n",
    "print(first_nr)"
   ]
  },
  {
   "cell_type": "code",
   "execution_count": 64,
   "metadata": {},
   "outputs": [
    {
     "name": "stdout",
     "output_type": "stream",
     "text": [
      "76688505\n"
     ]
    }
   ],
   "source": [
    "window = 2\n",
    "\n",
    "while(window < len(inp)):\n",
    "    \n",
    "    for i in range(len(inp) - window):\n",
    "        \n",
    "        sm = sum(inp[i : i + window])\n",
    "        \n",
    "        if sm == first_nr:\n",
    "            print(str(min(inp[i : i + window]) + max(inp[i : i + window])))\n",
    "            window = len(inp)\n",
    "            break\n",
    "   \n",
    "    window += 1"
   ]
  },
  {
   "cell_type": "markdown",
   "metadata": {},
   "source": [
    "# Day 10\n"
   ]
  },
  {
   "cell_type": "code",
   "execution_count": 72,
   "metadata": {},
   "outputs": [
    {
     "name": "stdout",
     "output_type": "stream",
     "text": [
      "[126, 38, 162, 123, 137, 97, 92, 67, 136, 37, 146, 2, 139, 74, 101, 163, 128, 127, 13, 111, 30, 117, 3, 93, 29, 152, 80, 21, 7, 54, 69, 40, 48, 104, 110, 142, 57, 116, 31, 70, 28, 151, 108, 20, 157, 121, 47, 75, 94, 39, 73, 77, 129, 41, 24, 44, 132, 87, 114, 58, 64, 4, 10, 19, 138, 45, 76, 147, 59, 155, 156, 83, 118, 109, 107, 160, 61, 91, 102, 115, 68, 150, 34, 16, 27, 135, 161, 46, 122, 90, 1, 164, 100, 103, 84, 145, 51, 60]\n"
     ]
    }
   ],
   "source": [
    "inp = []\n",
    "\n",
    "with open('input_10.txt', 'r') as f:\n",
    "    inp = [int(line[:-1]) for line in f]\n",
    "    \n",
    "print(inp)"
   ]
  },
  {
   "cell_type": "code",
   "execution_count": 74,
   "metadata": {},
   "outputs": [],
   "source": [
    "inp.sort()\n",
    "inp.append(inp[-1] + 3)\n",
    "inp.insert(0, 0)"
   ]
  },
  {
   "cell_type": "code",
   "execution_count": 76,
   "metadata": {},
   "outputs": [
    {
     "name": "stdout",
     "output_type": "stream",
     "text": [
      "65 34\n",
      "2210\n"
     ]
    }
   ],
   "source": [
    "## PART I ##\n",
    "\n",
    "dif1 = 0\n",
    "dif3 = 0\n",
    "\n",
    "for i, jolt in enumerate(inp[:-1]):\n",
    "    \n",
    "    if jolt + 1 == inp[i + 1]:\n",
    "        dif1 += 1\n",
    "    if jolt + 3 == inp[i + 1]:\n",
    "        dif3 += 1\n",
    "        \n",
    "print(str(dif1) + ' ' + str(dif3))\n",
    "print(dif1 * dif3)"
   ]
  },
  {
   "cell_type": "code",
   "execution_count": 77,
   "metadata": {},
   "outputs": [
    {
     "name": "stdout",
     "output_type": "stream",
     "text": [
      "{0: 1, 1: 1, 2: 2, 3: 4, 4: 7, 7: 7, 10: 7, 13: 7, 16: 7, 19: 7, 20: 7, 21: 14, 24: 14, 27: 14, 28: 14, 29: 28, 30: 56, 31: 98, 34: 98, 37: 98, 38: 98, 39: 196, 40: 392, 41: 686, 44: 686, 45: 686, 46: 1372, 47: 2744, 48: 4802, 51: 4802, 54: 4802, 57: 4802, 58: 4802, 59: 9604, 60: 19208, 61: 33614, 64: 33614, 67: 33614, 68: 33614, 69: 67228, 70: 134456, 73: 134456, 74: 134456, 75: 268912, 76: 537824, 77: 941192, 80: 941192, 83: 941192, 84: 941192, 87: 941192, 90: 941192, 91: 941192, 92: 1882384, 93: 3764768, 94: 6588344, 97: 6588344, 100: 6588344, 101: 6588344, 102: 13176688, 103: 26353376, 104: 46118408, 107: 46118408, 108: 46118408, 109: 92236816, 110: 184473632, 111: 322828856, 114: 322828856, 115: 322828856, 116: 645657712, 117: 1291315424, 118: 2259801992, 121: 2259801992, 122: 2259801992, 123: 4519603984, 126: 4519603984, 127: 4519603984, 128: 9039207968, 129: 18078415936, 132: 18078415936, 135: 18078415936, 136: 18078415936, 137: 36156831872, 138: 72313663744, 139: 126548911552, 142: 126548911552, 145: 126548911552, 146: 126548911552, 147: 253097823104, 150: 253097823104, 151: 253097823104, 152: 506195646208, 155: 506195646208, 156: 506195646208, 157: 1012391292416, 160: 1012391292416, 161: 1012391292416, 162: 2024782584832, 163: 4049565169664, 164: 7086739046912, 167: 7086739046912}\n"
     ]
    }
   ],
   "source": [
    "## PART II ##\n",
    "\n",
    "nr_ways = dict()\n",
    "\n",
    "nr_ways[0] = 1\n",
    "nr_ways[1] = 1\n",
    "nr_ways[2] = 2\n",
    "\n",
    "def get_origins(jolt):\n",
    "    \n",
    "    reachable = [inp[inp.index(jolt) - 1]]\n",
    "    \n",
    "    if jolt - inp[inp.index(jolt) - 2] <= 3:\n",
    "        reachable.append(inp[inp.index(jolt) - 2])\n",
    "        \n",
    "    if jolt - inp[inp.index(jolt) - 3] == 3:\n",
    "        reachable.append(inp[inp.index(jolt) - 3])\n",
    "    \n",
    "    return reachable\n",
    "\n",
    "\n",
    "\n",
    "for jolt in inp[3:]:\n",
    "    \n",
    "    s = 0\n",
    "    reachables = get_origins(jolt)\n",
    "    \n",
    "    for r in reachables:\n",
    "        s += nr_ways[r]\n",
    "        \n",
    "    nr_ways[jolt] = s\n",
    "    \n",
    "    \n",
    "    \n",
    "    \n",
    "print(nr_ways)"
   ]
  },
  {
   "cell_type": "markdown",
   "metadata": {},
   "source": [
    "# Day 11"
   ]
  },
  {
   "cell_type": "code",
   "execution_count": 22,
   "metadata": {},
   "outputs": [],
   "source": [
    "with open ('input_11.txt', 'r') as f:\n",
    "    inp = [line[:-1] for line in f.readlines()]"
   ]
  },
  {
   "cell_type": "code",
   "execution_count": 30,
   "metadata": {},
   "outputs": [],
   "source": [
    "test = 'L.LL.LL.LL\\n\\\n",
    "LLLLLLL.LL\\n\\\n",
    "L.L.L..L..\\n\\\n",
    "LLLL.LL.LL\\n\\\n",
    "L.LL.LL.LL\\n\\\n",
    "L.LLLLL.LL\\n\\\n",
    "..L.L.....\\n\\\n",
    "LLLLLLLLLL\\n\\\n",
    "L.LLLLLL.L\\n\\\n",
    "L.LLLLL.LL'\n",
    "\n",
    "test_inp = []\n",
    "for line in test.split('\\n'):\n",
    "    test_inp.append(line)"
   ]
  },
  {
   "cell_type": "code",
   "execution_count": 23,
   "metadata": {},
   "outputs": [],
   "source": [
    "seats = inp.copy()\n",
    "seats_dict = dict()\n",
    "\n",
    "for i,row in enumerate(seats):\n",
    "    for j,s in enumerate(row):\n",
    "        seats_dict[(i, j)] = s\n"
   ]
  },
  {
   "cell_type": "code",
   "execution_count": 38,
   "metadata": {},
   "outputs": [],
   "source": [
    "## PART I ##\n",
    "def get_immediate_neighbors(row, col, seats):\n",
    "    \n",
    "    return list(filter ( None, [seats.get((row - 1, col)), seats.get((row + 1, col)),\\\n",
    "                               seats.get((row, col - 1)), seats.get((row, col + 1)), \\\n",
    "                               seats.get((row - 1, col - 1)), seats.get((row - 1, col + 1)),\\\n",
    "                               seats.get((row + 1, col - 1)), seats.get((row + 1, col + 1))]))\n",
    "\n",
    "\n",
    "## PART II ##\n",
    "def get_all_neighbors(row, col, seats):\n",
    "    \n",
    "    dirs = [(-1, -1), (-1, 0), (-1, 1), (0, -1), (0, 1), (1, -1), (1, 0), (1, 1)]\n",
    "    neighbors = []\n",
    "    \n",
    "    for r, c in dirs:\n",
    "        rnext = row + r\n",
    "        cnext = col + c\n",
    "        \n",
    "        tile = seats.get((rnext, cnext))\n",
    "        \n",
    "        while tile == '.':\n",
    "            rnext += r\n",
    "            cnext += c\n",
    "            tile = seats.get((rnext, cnext))\n",
    "        \n",
    "        neighbors.append(tile)    \n",
    "        \n",
    "    return(list(filter(None, neighbors)))\n",
    "    \n",
    "    \n",
    "def change_state(seats, neighbor_fn):\n",
    "    \n",
    "    cp = seats.copy() \n",
    "\n",
    "    for row, col in cp:\n",
    "        if cp[(row, col)] == 'L' and '#' not in neighbor_fn(row, col, seats):\n",
    "            cp[(row, col)] = '#'\n",
    "        else:\n",
    "            if cp[(row, col)] == '#' and len([x for x in neighbor_fn(row, col, seats) if x == \"#\"]) >= 5: # 4 for part i\n",
    "                cp[(row, col)] = 'L'\n",
    "    \n",
    "    if seats == cp:\n",
    "        return False\n",
    "    else:\n",
    "        \n",
    "        return cp\n",
    "        "
   ]
  },
  {
   "cell_type": "code",
   "execution_count": 39,
   "metadata": {},
   "outputs": [
    {
     "name": "stdout",
     "output_type": "stream",
     "text": [
      "2002\n"
     ]
    }
   ],
   "source": [
    "seats = seats_dict.copy()\n",
    "\n",
    "while True:\n",
    "    \n",
    "    next_seats = change_state(seats, get_all_neighbors) #get_immediate_neighbors for part i\n",
    "    \n",
    "    if next_seats == False:\n",
    "        print(len([x for x in seats.values() if x == '#']))\n",
    "        break\n",
    "        \n",
    "    seats = next_seats"
   ]
  },
  {
   "cell_type": "markdown",
   "metadata": {},
   "source": [
    "# Day 12"
   ]
  },
  {
   "cell_type": "code",
   "execution_count": 66,
   "metadata": {},
   "outputs": [],
   "source": [
    "import cmath\n",
    "\n",
    "inp = []\n",
    "\n",
    "with open('input_12.txt', 'r') as f:\n",
    "    \n",
    "    for line in f:\n",
    "        if line[0] == 'R':\n",
    "            inp.append([line[0], - int(int(line[1:]) / 90)])\n",
    "        elif line[0] == 'L':\n",
    "            inp.append([line[0], int(int(line[1:]) / 90)])\n",
    "        else:\n",
    "            inp.append([line[0], int(line[1:])]) "
   ]
  },
  {
   "cell_type": "code",
   "execution_count": 68,
   "metadata": {},
   "outputs": [],
   "source": [
    "test_txt = 'F10\\n\\\n",
    "N3\\n\\\n",
    "F7\\n\\\n",
    "R90\\n\\\n",
    "F11'\n",
    "\n",
    "test_inp = []\n",
    "\n",
    "for line in test_txt.split(\"\\n\"):\n",
    "    if line[0] == 'R':\n",
    "        test_inp.append([line[0], - int(int(line[1:]) / 90)])\n",
    "    elif line[0] == 'L':\n",
    "        test_inp.append([line[0], int(int(line[1:]) / 90)])\n",
    "    else:\n",
    "        test_inp.append([line[0], int(line[1:])])\n"
   ]
  },
  {
   "cell_type": "code",
   "execution_count": 76,
   "metadata": {},
   "outputs": [
    {
     "name": "stdout",
     "output_type": "stream",
     "text": [
      "2228\n"
     ]
    }
   ],
   "source": [
    "\n",
    "compass = {\"E\" : complex(1, 0), \"W\" : complex(-1, 0), \"N\" : complex(0, 1), \"S\" :complex(0, -1)}\n",
    "\n",
    "## PART I ##\n",
    "\n",
    "pos = complex(0, 0)\n",
    "direction = complex(1, 0)\n",
    "\n",
    "for step, amount in inp:\n",
    "    \n",
    "    if step == \"R\" or step == \"L\":\n",
    "        direction *= complex(0, 1) ** amount  \n",
    "    elif step == \"F\":\n",
    "        pos += amount * direction\n",
    "    else:\n",
    "        pos += amount * compass[step]\n",
    "    \n",
    "        \n",
    "print(int(abs(pos.real) + abs(pos.imag)))"
   ]
  },
  {
   "cell_type": "code",
   "execution_count": 77,
   "metadata": {},
   "outputs": [
    {
     "name": "stdout",
     "output_type": "stream",
     "text": [
      "42908\n"
     ]
    }
   ],
   "source": [
    "## PART II ##\n",
    "\n",
    "pos = complex(0, 0)\n",
    "wp = complex(10, 1)\n",
    "\n",
    "for step, amount in inp:\n",
    "    \n",
    "    if step == \"R\" or step == \"L\":\n",
    "        wp *= complex(0, 1) ** amount  \n",
    "    elif step == \"F\":\n",
    "        pos += amount * wp\n",
    "    else:\n",
    "        wp += amount * compass[step]\n",
    "\n",
    "        \n",
    "print(int(abs(pos.real) + abs(pos.imag)))"
   ]
  },
  {
   "cell_type": "markdown",
   "metadata": {},
   "source": [
    "# Day 13"
   ]
  },
  {
   "cell_type": "code",
   "execution_count": 3,
   "metadata": {},
   "outputs": [],
   "source": [
    "with open('input_13.txt', 'r') as f:\n",
    "    inp = f.read()"
   ]
  },
  {
   "cell_type": "code",
   "execution_count": 163,
   "metadata": {},
   "outputs": [],
   "source": [
    "test_txt = '939\\n\\\n",
    "7,13,x,x,59,x,31,19'"
   ]
  },
  {
   "cell_type": "code",
   "execution_count": 4,
   "metadata": {},
   "outputs": [],
   "source": [
    "inp_txt = inp\n",
    "\n",
    "start_ts = int(inp_txt.split('\\n')[0])\n",
    "schedule = [int(ts) for ts in inp_txt.split('\\n')[1].split(',') if ts != 'x']"
   ]
  },
  {
   "cell_type": "code",
   "execution_count": 5,
   "metadata": {},
   "outputs": [
    {
     "name": "stdout",
     "output_type": "stream",
     "text": [
      "2406\n"
     ]
    }
   ],
   "source": [
    "depart_ts = start_ts ** 2\n",
    "\n",
    "for ts in schedule:\n",
    "    \n",
    "    if start_ts % ts == 0: \n",
    "        bus = ts\n",
    "        break\n",
    "    else:\n",
    "        if depart_ts > (start_ts // ts + 1) * ts:\n",
    "            depart_ts = (start_ts // ts + 1) * ts\n",
    "            bus = ts\n",
    "\n",
    "print((depart_ts - start_ts) * bus)"
   ]
  },
  {
   "cell_type": "code",
   "execution_count": 13,
   "metadata": {},
   "outputs": [
    {
     "name": "stdout",
     "output_type": "stream",
     "text": [
      "Solve (t + 0) mod 23 = 0, (t + 13) mod 41 = 0, (t + 23) mod 509 = 0, (t + 36) mod 13 = 0, (t + 37) mod 17 = 0, (t + 52) mod 29 = 0, (t + 54) mod 401 = 0, (t + 60) mod 37 = 0, (t + 73) mod 19 = 0, \n"
     ]
    }
   ],
   "source": [
    "## PART II ##\n",
    "inp_txt = inp\n",
    "schedule = [(i, ts) for i, ts in enumerate(inp_txt.split('\\n')[1].split(','))]\n",
    "\n",
    "a = ['(t + {}) mod {} = 0, '.format(x[0], x[1]) for x in schedule if x[1] != 'x']\n",
    "\n",
    "system_of_eq = 'Solve '\n",
    "for eq in a:\n",
    "    system_of_eq += eq\n",
    "    \n",
    "print(system_of_eq)"
   ]
  },
  {
   "cell_type": "code",
   "execution_count": 66,
   "metadata": {},
   "outputs": [
    {
     "name": "stdout",
     "output_type": "stream",
     "text": [
      "t = 867200349647749 n + 225850756401039, n element Z\n"
     ]
    }
   ],
   "source": [
    "import wolframalpha\n",
    "\n",
    "appID = 'PGRP2R-7XTK8QGG9U'\n",
    "client = wolframalpha.Client(appID)\n",
    "\n",
    "res = client.query(system_of_eq[:-1])\n",
    "\n",
    "for item in res.pods:\n",
    "    if item.title == 'Integer solution': \n",
    "        for pod in item.subpods:\n",
    "            print(pod['img']['@title'])"
   ]
  },
  {
   "cell_type": "code",
   "execution_count": null,
   "metadata": {},
   "outputs": [],
   "source": []
  }
 ],
 "metadata": {
  "kernelspec": {
   "display_name": "Python 3",
   "language": "python",
   "name": "python3"
  },
  "language_info": {
   "codemirror_mode": {
    "name": "ipython",
    "version": 3
   },
   "file_extension": ".py",
   "mimetype": "text/x-python",
   "name": "python",
   "nbconvert_exporter": "python",
   "pygments_lexer": "ipython3",
   "version": "3.9.1"
  }
 },
 "nbformat": 4,
 "nbformat_minor": 4
}
